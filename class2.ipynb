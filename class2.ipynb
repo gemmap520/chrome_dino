{
 "cells": [
  {
   "cell_type": "markdown",
   "metadata": {},
   "source": [
    "PART 1"
   ]
  },
  {
   "cell_type": "markdown",
   "metadata": {},
   "source": [
    "global은 전역 변수를 사용할 때 필요한 키워드예요. 쉽게 말해서, 전역 변수는 프로그램의 모든 곳에서 사용할 수 있는 변수예요. 이제 global이 어떻게 작동하는지 main() 함수 안에서 설명할게요."
   ]
  },
  {
   "cell_type": "markdown",
   "metadata": {},
   "source": [
    "이 코드는 global을 사용해서 다섯 개의 변수를 함수 안에서 사용할 수 있게 만들어요. 이 변수를 자세히 설명하자면:\n",
    "\n",
    "game_speed: 게임의 속도를 나타내는 변수예요. 공룡이 얼마나 빨리 뛰는지, 배경이 얼마나 빠르게 움직이는지 결정해요.\n",
    "x_pos_bg: 배경이 가로 방향으로 어디에 있는지 나타내는 변수예요. 배경이 스크롤되는 효과를 주기 위해 사용돼요.\n",
    "y_pos_bg: 배경이 세로 방향으로 어디에 있는지 나타내는 변수예요."
   ]
  },
  {
   "cell_type": "markdown",
   "metadata": {},
   "source": [
    "왜 global이 필요할까?\n",
    "보통 함수 안에서 만든 변수는 그 함수 안에서만 사용할 수 있어요. 하지만, global을 사용하면 함수 밖에서 만들어진 변수를 함수 안에서도 똑같이 사용할 수 있어요. 그래서 여기서 global을 사용하면, main() 함수가 아닌 다른 곳에서 만들어진 game_speed, obstacles 같은 변수를 이 함수 안에서도 사용할 수 있게 되는 거예요."
   ]
  },
  {
   "cell_type": "code",
   "execution_count": null,
   "metadata": {},
   "outputs": [],
   "source": [
    "def background():\n",
    "    global x_pos_bg, y_pos_bg\n",
    "    image_width = BG.get_width()\n",
    "    screen.blit(BG, (x_pos_bg, y_pos_bg))\n",
    "    screen.blit(BG, (image_width + x_pos_bg, y_pos_bg))\n",
    "    if x_pos_bg <= -image_width:\n",
    "        screen.blit(BG, (image_width + x_pos_bg, y_pos_bg))\n",
    "        x_pos_bg = 0\n",
    "    x_pos_bg -= game_speed\n",
    "\n",
    "while run:\n",
    "    for event in pygame.event.get():\n",
    "        if event.type == pygame.QUIT:\n",
    "            run = False\n",
    "    \n",
    "    screen.fill((255,255,255))"
   ]
  },
  {
   "cell_type": "markdown",
   "metadata": {},
   "source": [
    "background() 함수는 배경 이미지를 화면에 그리는 역할을 해요. 이 함수 안에서는 배경이 계속해서 움직이는 효과를 만들어줍니다"
   ]
  },
  {
   "cell_type": "markdown",
   "metadata": {},
   "source": [
    "global x_pos_bg, y_pos_bg\n",
    "global x_pos_bg, y_pos_bg: 함수 안에서 이 두 변수를 전역 변수로 사용하겠다는 뜻이에요.\n",
    "x_pos_bg: 배경 이미지의 가로 위치를 의미해요.\n",
    "y_pos_bg: 배경 이미지의 세로 위치를 의미해요."
   ]
  },
  {
   "cell_type": "markdown",
   "metadata": {},
   "source": [
    "image_width = BG.get_width()\n",
    "BG.get_width(): BG라는 배경 이미지의 가로 너비를 가져오는 코드예요. 배경이 얼마나 넓은지 알아야, 화면 밖으로 나갈 때 다시 그릴 수 있죠."
   ]
  },
  {
   "cell_type": "markdown",
   "metadata": {},
   "source": [
    "screen.blit(BG, (x_pos_bg, y_pos_bg))\n",
    "screen.blit(): 화면에 이미지를 그리는 함수예요. 여기서는 배경 이미지를 (x_pos_bg, y_pos_bg) 위치에 그려요.\n",
    "x_pos_bg: 배경의 가로 위치.\n",
    "y_pos_bg: 배경의 세로 위치."
   ]
  },
  {
   "cell_type": "markdown",
   "metadata": {},
   "source": [
    "screen.blit(BG, (image_width + x_pos_bg, y_pos_bg))\n",
    "첫 번째 배경 이미지가 끝나고 바로 이어서 두 번째 배경 이미지를 이어 그려요. 이렇게 하면 배경이 계속 이어지는 것처럼 보여요.\n",
    "image_width + x_pos_bg: 첫 번째 배경의 끝에 맞춰서 그려지도록 배경 이미지의 너비를 더해주는 역할을 해요."
   ]
  },
  {
   "cell_type": "markdown",
   "metadata": {},
   "source": [
    "if x_pos_bg <= -image_width:\n",
    "배경의 가로 위치인 x_pos_bg가 배경 이미지의 너비만큼 왼쪽으로 이동했는지를 확인해요. 만약 배경이 화면 밖으로 완전히 나가버리면.."
   ]
  },
  {
   "cell_type": "markdown",
   "metadata": {},
   "source": [
    "screen.blit(BG, (image_width + x_pos_bg, y_pos_bg))\n",
    "다시 배경을 그려서 부드럽게 이어지도록 하는 역할을 해요."
   ]
  },
  {
   "cell_type": "markdown",
   "metadata": {},
   "source": [
    "x_pos_bg = 0\n",
    "배경의 가로 위치인 x_pos_bg를 0으로 초기화해요. 즉, 배경이 끝까지 이동했다면 처음부터 다시 그리기 시작하는 거예요."
   ]
  },
  {
   "cell_type": "markdown",
   "metadata": {},
   "source": [
    "x_pos_bg -= game_speed\n",
    "배경이 게임 속도만큼 왼쪽으로 이동하게 해요. 이 부분이 배경이 움직이는 것처럼 보이게 만드는 핵심이에요.\n"
   ]
  },
  {
   "cell_type": "markdown",
   "metadata": {},
   "source": [
    "while run:\n",
    "while run:: 게임이 실행되고 있는 동안 계속 반복되는 무한 루프예요. run이 True인 동안 이 루프가 계속 실행돼요."
   ]
  },
  {
   "cell_type": "markdown",
   "metadata": {},
   "source": [
    "for event in pygame.event.get():\n",
    "**pygame.event.get()**은 사용자의 입력 이벤트(키보드나 마우스 입력)를 감지하는 함수예요. 여기서는 for문을 사용해 이벤트들을 하나씩 확인해요."
   ]
  },
  {
   "cell_type": "markdown",
   "metadata": {},
   "source": [
    "if event.type == pygame.QUIT:\n",
    "사용자가 창을 닫는 종료 이벤트를 확인하는 코드예요. 만약 사용자가 창을 닫으면..."
   ]
  },
  {
   "cell_type": "markdown",
   "metadata": {},
   "source": [
    "run = False\n",
    "run = False: run을 False로 바꿔서 게임 루프를 종료해요. 창을 닫는 입력이 들어오면 게임을 멈추게 됩니다.\n"
   ]
  },
  {
   "cell_type": "markdown",
   "metadata": {},
   "source": [
    "PART 2"
   ]
  },
  {
   "cell_type": "markdown",
   "metadata": {},
   "source": [
    "__init__ 함수는 파이썬에서 특별한 함수로, 새로운 객체(예: 공룡)를 만들 때 자동으로 실행됩니다. 이 함수는 공룡이 어떤 모습으로 시작할지, 즉 공룡의 이미지, 위치, 동작 등을 설정해주는 역할을 합니다."
   ]
  },
  {
   "cell_type": "markdown",
   "metadata": {},
   "source": [
    "1. 이미지 설정\n",
    "이 부분은 공룡이 앉을 때, 뛸 때, 점프할 때 어떤 이미지를 사용할지를 정해요.\n",
    "예를 들어, RUNNING은 공룡이 뛸 때 사용할 이미지들이고, JUMPING은 점프할 때 사용할 이미지예요."
   ]
  },
  {
   "cell_type": "code",
   "execution_count": null,
   "metadata": {},
   "outputs": [],
   "source": [
    "self.duck_img = DUCKING\n",
    "self.run_img = RUNNING\n",
    "self.jump_img = JUMPING"
   ]
  },
  {
   "cell_type": "markdown",
   "metadata": {},
   "source": [
    "2. 공룡의 상태 설정\n",
    "이 부분은 공룡이 어떤 동작을 하고 있는지를 나타내요.\n",
    "self.dino_run = True: 공룡이 처음에 뛰는 상태로 시작해요.\n",
    "self.dino_jump = False: 공룡은 점프하지 않은 상태로 시작해요.\n",
    "self.dino_duck = False: 공룡은 앉지 않은 상태로 시작해요."
   ]
  },
  {
   "cell_type": "code",
   "execution_count": null,
   "metadata": {},
   "outputs": [],
   "source": [
    "self.dino_run = True\n",
    "self.dino_jump = False\n",
    "self.dino_duck = False"
   ]
  },
  {
   "cell_type": "markdown",
   "metadata": {},
   "source": [
    "3. 공룡의 움직임과 위치 설정\n",
    "self.step_index = 0: 공룡의 걷는 동작을 순서대로 보여주기 위해 사용돼요.\n",
    "self.jump_vel = self.JUMP_VEL: 공룡이 얼마나 빠르게 점프할지를 설정해요.\n",
    "self.image = self.run_img[0]: 공룡이 처음에는 뛰는 이미지로 시작해요.\n",
    "self.dino_rect: 공룡의 위치를 설정해요.\n",
    "self.dino_rect.x = self.X_POS: 공룡의 가로 위치를 설정해요.\n",
    "self.dino_rect.y = self.Y_POS: 공룡의 세로 위치를 설정해요."
   ]
  },
  {
   "cell_type": "code",
   "execution_count": null,
   "metadata": {},
   "outputs": [],
   "source": [
    "self.step_index = 0\n",
    "self.jump_vel = self.JUMP_VEL\n",
    "self.image = self.run_img[0]\n",
    "self.dino_rect = self.image.get_rect()\n",
    "self.dino_rect.x = self.X_POS\n",
    "self.dino_rect.y = self.Y_POS"
   ]
  }
 ],
 "metadata": {
  "language_info": {
   "name": "python"
  }
 },
 "nbformat": 4,
 "nbformat_minor": 2
}
